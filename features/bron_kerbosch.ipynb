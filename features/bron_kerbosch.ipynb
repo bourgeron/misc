{
 "cells": [
  {
   "cell_type": "code",
   "execution_count": null,
   "id": "8894a1a4",
   "metadata": {},
   "outputs": [],
   "source": [
    "def max_cliques_1(neighbors):  # dict[sets]\n",
    "    def bron_kerbosch(clique, candidates, excluded):\n",
    "        if not candidates and not excluded:\n",
    "            cliques.append(clique)\n",
    "        for vertex in candidates:\n",
    "            neighs = neighbors[vertex]\n",
    "            bron_kerbosch(clique | {vertex}, candidates & neighs, excluded & neighs)\n",
    "            candidates = candidates - {vertex}\n",
    "            excluded = excluded | {vertex}\n",
    "\n",
    "    assert all(vertex not in neighs for vertex, neighs in neighbors.items())\n",
    "    assert set(neighbors) >= set.union(*[set(val) for val in neighbors.values()])\n",
    "    cliques = []\n",
    "    bron_kerbosch(set(), set(neighbors), set())\n",
    "    if cliques:\n",
    "        max_len = max(len(clique) for clique in cliques)\n",
    "        cliques = [clique for clique in cliques if len(clique) == max_len]\n",
    "    return cliques"
   ]
  },
  {
   "cell_type": "code",
   "execution_count": null,
   "id": "e60b11bf",
   "metadata": {},
   "outputs": [],
   "source": [
    "def max_cliques_2(neighbors):  # dict[sets]\n",
    "    def bron_kerbosch(clique, candidates, excluded):\n",
    "        if not candidates and not excluded:\n",
    "            cliques.append(clique)\n",
    "        for vertex in candidates:\n",
    "            neighs = neighbors[vertex]\n",
    "            bron_kerbosch(clique | {vertex}, candidates & neighs, excluded & neighs)\n",
    "            candidates = candidates - {vertex}\n",
    "            excluded = excluded | {vertex}\n",
    "\n",
    "    assert all(vertex not in neighs for vertex, neighs in neighbors.items())\n",
    "    assert set(neighbors) >= set.union(*[set(val) for val in neighbors.values()])\n",
    "\n",
    "    cliques = []\n",
    "    sorted_vertices, _ = zip(*sorted(\n",
    "        neighbors.items(), key=lambda x: len(x[1]), reverse=True))\n",
    "    bron_kerbosch(set(), set(sorted_vertices), set())\n",
    "    if cliques:\n",
    "        max_len = max(len(clique) for clique in cliques)\n",
    "        cliques = [clique for clique in cliques if len(clique) == max_len]\n",
    "    return cliques"
   ]
  },
  {
   "cell_type": "code",
   "execution_count": null,
   "id": "3756239c",
   "metadata": {},
   "outputs": [],
   "source": [
    "def max_cliques_3(neighbors):  # dict[sets]\n",
    "    def bron_kerbosch(clique, candidates, excluded, max_len):\n",
    "        if not candidates and not excluded and len(clique) >= max_len:\n",
    "            cliques.append(clique)\n",
    "        for vertex in candidates:\n",
    "            neighs = neighbors[vertex]\n",
    "            bron_kerbosch(clique | {vertex}, candidates & neighs, excluded & neighs, max_len)\n",
    "            candidates = candidates - {vertex}\n",
    "            excluded = excluded | {vertex}\n",
    "\n",
    "    assert all(vertex not in neighs for vertex, neighs in neighbors.items())\n",
    "    assert set(neighbors) >= set.union(*[set(val) for val in neighbors.values()])\n",
    "\n",
    "    cliques = []\n",
    "    max_len = 0\n",
    "    sorted_vertices, _ = zip(*sorted(\n",
    "        neighbors.items(), key=lambda x: len(x[1]), reverse=True))\n",
    "    candidates = set(sorted_vertices)\n",
    "    excluded = set()\n",
    "    for vertex, neighs in neighbors.items():\n",
    "        bron_kerbosch({vertex}, candidates & neighs, excluded & neighs, max_len)\n",
    "        if cliques:\n",
    "            max_len = max(max_len, max(len(clique) for clique in cliques))\n",
    "        candidates = candidates - {vertex}\n",
    "        excluded = excluded | {vertex}\n",
    "    if cliques:\n",
    "        cliques = [clique for clique in cliques if len(clique) == max_len]\n",
    "    return cliques"
   ]
  },
  {
   "cell_type": "code",
   "execution_count": null,
   "id": "975aad8c",
   "metadata": {},
   "outputs": [],
   "source": [
    "def max_cliques_4(neighbors):  # dict[sets]\n",
    "    def bron_kerbosch(clique, candidates, excluded):\n",
    "        if not candidates and not excluded:\n",
    "            cliques.append(clique)\n",
    "        for vertex in candidates:\n",
    "            neighs = neighbors[vertex]\n",
    "            bron_kerbosch(clique | {vertex}, candidates & neighs, excluded & neighs)\n",
    "            candidates = candidates - {vertex}\n",
    "            excluded = excluded | {vertex}\n",
    "\n",
    "    assert all(vertex not in neighs for vertex, neighs in neighbors.items())\n",
    "    assert set(neighbors) >= set.union(*[set(val) for val in neighbors.values()])\n",
    "    graph = nx.Graph()\n",
    "    graph.add_edges_from(dos_to_loe(neighbors))\n",
    "    sorted_vertices = set(strategy_smallest_last(graph, _))\n",
    "    cliques = []\n",
    "    bron_kerbosch(set(), sorted_vertices, set())\n",
    "    if cliques:\n",
    "        max_len = max(len(clique) for clique in cliques)\n",
    "        cliques = [clique for clique in cliques if len(clique) == max_len]\n",
    "    return cliques"
   ]
  },
  {
   "cell_type": "code",
   "execution_count": null,
   "id": "0759b40f",
   "metadata": {},
   "outputs": [],
   "source": [
    "import numpy as np\n",
    "import pandas as pd\n",
    "import networkx as nx\n",
    "from networkx.algorithms.coloring.greedy_coloring import strategy_smallest_last\n",
    "# Matula & Beck algorithm to derive the degeneracy ordering \n",
    "\n",
    "def adj_mat_to_dos(adj_mat):\n",
    "    assert not np.any(np.diag(adj_mat))\n",
    "    dos = dict()\n",
    "    for ind, neighs in enumerate(adj_mat):\n",
    "        dos[ind] = set(np.where(neighs)[0])\n",
    "    return dos\n",
    "\n",
    "def adj_mat_to_loe(adj_mat):\n",
    "    edges = pd.DataFrame(adj_mat).stack()\n",
    "    return edges[edges].index\n",
    "\n",
    "def dos_to_loe(dos):\n",
    "    loe = []\n",
    "    for vertex, neighs in neighbors.items():\n",
    "        loe.extend([(vertex, neigh) for neigh in neighs])\n",
    "    return loe\n",
    "\n",
    "adj_mat = np.array([\n",
    "    [False,  True,  True, False, False, False],\n",
    "    [ True, False,  True,  True,  True,  True],\n",
    "    [ True,  True, False, False, False, False],\n",
    "    [False,  True, False, False,  True,  True],\n",
    "    [False,  True, False,  True, False,  True],\n",
    "    [False,  True, False,  True,  True, False]]\n",
    ")\n",
    "\n",
    "neighbors = adj_mat_to_dos(adj_mat)\n",
    "\n",
    "res = [max_cliques_1(neighbors), max_cliques_2(neighbors), max_cliques_3(neighbors), max_cliques_4(neighbors)]\n",
    "all(a == b for a, b in zip(res, res[1:]))"
   ]
  },
  {
   "cell_type": "code",
   "execution_count": null,
   "id": "c7de482c",
   "metadata": {},
   "outputs": [],
   "source": [
    "# this example has homogeneous degrees...\n",
    "\n",
    "adj_mat = np.random.rand(50, 50) < 0.6\n",
    "adj_mat |= adj_mat.T\n",
    "np.fill_diagonal(adj_mat, False)\n",
    "neighbors = adj_mat_to_dos(adj_mat)"
   ]
  },
  {
   "cell_type": "code",
   "execution_count": null,
   "id": "88c5780c",
   "metadata": {},
   "outputs": [],
   "source": [
    "%%time\n",
    "\n",
    "res_1 = max_cliques_1(neighbors)"
   ]
  },
  {
   "cell_type": "code",
   "execution_count": null,
   "id": "202e66bc",
   "metadata": {},
   "outputs": [],
   "source": [
    "%%time\n",
    "\n",
    "res_2 = max_cliques_2(neighbors)"
   ]
  },
  {
   "cell_type": "code",
   "execution_count": null,
   "id": "f6164bc9",
   "metadata": {},
   "outputs": [],
   "source": [
    "%%time\n",
    "\n",
    "res_3 = max_cliques_3(neighbors)"
   ]
  },
  {
   "cell_type": "code",
   "execution_count": null,
   "id": "a8f54272",
   "metadata": {},
   "outputs": [],
   "source": [
    "%%time\n",
    "\n",
    "res_4 = max_cliques_4(neighbors)"
   ]
  },
  {
   "cell_type": "code",
   "execution_count": null,
   "id": "6b11eeee",
   "metadata": {},
   "outputs": [],
   "source": [
    "res = [res_1, res_2, res_3, res_4]\n",
    "all(a == b for a, b in zip(res, res[1:]))"
   ]
  }
 ],
 "metadata": {
  "kernelspec": {
   "display_name": "Python 3 (ipykernel)",
   "language": "python",
   "name": "python3"
  },
  "language_info": {
   "codemirror_mode": {
    "name": "ipython",
    "version": 3
   },
   "file_extension": ".py",
   "mimetype": "text/x-python",
   "name": "python",
   "nbconvert_exporter": "python",
   "pygments_lexer": "ipython3",
   "version": "3.11.6"
  }
 },
 "nbformat": 4,
 "nbformat_minor": 5
}
