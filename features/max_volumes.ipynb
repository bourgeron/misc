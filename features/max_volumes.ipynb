{
 "cells": [
  {
   "cell_type": "code",
   "execution_count": null,
   "id": "242d0a4e",
   "metadata": {},
   "outputs": [],
   "source": [
    "from itertools import product\n",
    "import numpy as np"
   ]
  },
  {
   "cell_type": "code",
   "execution_count": null,
   "id": "3863356d",
   "metadata": {},
   "outputs": [],
   "source": [
    "def update_inner_volumes(inner_volumes, slices, sub):\n",
    "    if np.all(sub):\n",
    "        inner_vol = np.prod(np.array(sub.shape) - 1)\n",
    "        for pt_ in product(*slices):\n",
    "            inner_volumes[pt_].append(inner_vol)\n",
    "\n",
    "\n",
    "def max_inner_volumes(mat):\n",
    "    dims = mat.shape\n",
    "    pts = product(*[range(dim) for dim in dims])\n",
    "    inner_volumes = {pt: [] for pt in pts}\n",
    "#     zeros = np.where(~mat)\n",
    "\n",
    "    lst_bounds = [product(range(dim + 1), repeat=2) for dim in dims]\n",
    "    for bounds in product(*lst_bounds):\n",
    "        if all(bound[0] < bound[1] for bound in bounds):\n",
    "            slices = [np.arange(*bound) for bound in bounds]\n",
    "#             if not any(\n",
    "#                 all(coor in slic for coor, slic in zip(zero, slices))\n",
    "#                 for zero in zip(*zeros)):\n",
    "            sub = mat[np.ix_(*slices)]\n",
    "            update_inner_volumes(inner_volumes, slices, sub)\n",
    "\n",
    "    return np.array([\n",
    "        (max(vols) if vols else 0)\n",
    "        for vols in inner_volumes.values()]).reshape(dims)"
   ]
  },
  {
   "cell_type": "code",
   "execution_count": null,
   "id": "8c8ef5ba",
   "metadata": {},
   "outputs": [],
   "source": [
    "def max_inner_volumes_simplified(mat):\n",
    "    dims = mat.shape\n",
    "    inner_volumes = np.zeros(dims, dtype=int)\n",
    "\n",
    "    for left in np.ndindex(dims):\n",
    "        for right in product(*[range(l + 1, dim + 1) for l, dim in zip(left, dims)]):\n",
    "            slices = tuple(slice(l, r) for l, r in zip(left, right))\n",
    "            # shape = tuple(np.array(right) - np.array(left))\n",
    "            sub = mat[slices]\n",
    "            # print(slices, sub.shape, shape)\n",
    "            if np.all(sub):\n",
    "                inner_volume = np.prod(np.array(sub.shape) - 1)\n",
    "                inner_volumes[slices] = np.maximum(inner_volumes[slices], inner_volume)\n",
    "\n",
    "    return inner_volumes"
   ]
  },
  {
   "cell_type": "code",
   "execution_count": null,
   "id": "7d1bafaa",
   "metadata": {},
   "outputs": [],
   "source": [
    "def max_inner_volumes_stacked(mat):\n",
    "    # loop at constant shape; memory is more used vs np.all is more multiprocessed\n",
    "    dims = mat.shape\n",
    "    inner_volumes = np.zeros(dims, dtype=int)\n",
    "\n",
    "    for shape_ in np.ndindex(dims):\n",
    "        shape = np.array(shape_) + 1\n",
    "        slices = [\n",
    "            tuple(slice(r - s, r) for s, r in zip(shape, right))\n",
    "            for right in product(*[range(s, dim + 1) for s, dim in zip(shape, dims)])\n",
    "        ]\n",
    "        subs = np.array([mat[slic].reshape(-1) for slic in slices])\n",
    "        for ind in np.where(np.all(subs, axis=1))[0]:\n",
    "            inner_volume = np.prod(shape - 1)\n",
    "            inner_volumes[slices[ind]] = np.maximum(inner_volumes[slices[ind]], inner_volume)\n",
    "\n",
    "    return inner_volumes"
   ]
  },
  {
   "cell_type": "code",
   "execution_count": null,
   "id": "1f416b27",
   "metadata": {},
   "outputs": [],
   "source": [
    "funcs = [max_inner_volumes, max_inner_volumes_simplified, max_inner_volumes_stacked]"
   ]
  },
  {
   "cell_type": "code",
   "execution_count": null,
   "id": "88b97645",
   "metadata": {},
   "outputs": [],
   "source": [
    "expl = np.array([False, True, True, False, False])\n",
    "res = [func(expl) for func in funcs]\n",
    "assert all(np.array_equal(a, b) for a, b in zip(res, res[1:]))"
   ]
  },
  {
   "cell_type": "code",
   "execution_count": null,
   "id": "7b1b16c8",
   "metadata": {},
   "outputs": [],
   "source": [
    "expl = np.array([\n",
    "    [False, True, True,  False, False],\n",
    "    [True,  True, True,   True, False],\n",
    "    [False, True, False, False, False],\n",
    "])\n",
    "\n",
    "res = [func(expl) for func in funcs]\n",
    "assert all(np.array_equal(a, b) for a, b in zip(res, res[1:]))"
   ]
  },
  {
   "cell_type": "code",
   "execution_count": null,
   "id": "11f13a7c",
   "metadata": {},
   "outputs": [],
   "source": [
    "expl = np.random.rand(15, 15, 15) < 0.5"
   ]
  },
  {
   "cell_type": "code",
   "execution_count": null,
   "id": "fa17afb3",
   "metadata": {},
   "outputs": [],
   "source": [
    "%%time\n",
    "res_0 = funcs[0](expl)"
   ]
  },
  {
   "cell_type": "code",
   "execution_count": null,
   "id": "f9996f8e",
   "metadata": {},
   "outputs": [],
   "source": [
    "%%time\n",
    "res_1 = funcs[1](expl)"
   ]
  },
  {
   "cell_type": "code",
   "execution_count": null,
   "id": "32934cc9",
   "metadata": {},
   "outputs": [],
   "source": [
    "%%time\n",
    "res_2 = funcs[2](expl)"
   ]
  },
  {
   "cell_type": "code",
   "execution_count": null,
   "id": "a5209f99",
   "metadata": {},
   "outputs": [],
   "source": [
    "res = [res_0, res_1, res_2]\n",
    "assert all(np.array_equal(a, b) for a, b in zip(res, res[1:]))"
   ]
  },
  {
   "cell_type": "code",
   "execution_count": null,
   "id": "a4764d16",
   "metadata": {},
   "outputs": [],
   "source": [
    "def convolve_nd_no_padding(kernel, mat):\n",
    "    kernel_shape = kernel.shape\n",
    "    mat_shape = mat.shape\n",
    "    assert all(dim % 2 == 1 for dim in kernel_shape)\n",
    "    half_kernel_shape = tuple((dim - 1) // 2 for dim in kernel_shape)\n",
    "\n",
    "    convs = np.zeros(mat_shape, dtype=float)\n",
    "    for index in np.ndindex(mat_shape):\n",
    "        sub_mat = mat[tuple(\n",
    "            slice(\n",
    "                max(index[dim] - 1, 0),\n",
    "                index[dim] + half_kernel_shape[dim] + 1\n",
    "            )\n",
    "            for dim in range(mat.ndim)\n",
    "        )]\n",
    "        sub_kernel = kernel[tuple(\n",
    "            slice(\n",
    "                max(half_kernel_shape[dim] - index[dim], 0),\n",
    "                mat_shape[dim] + half_kernel_shape[dim] - index[dim]\n",
    "            )\n",
    "            for dim in range(kernel.ndim)\n",
    "        )]\n",
    "        convs[index] = np.multiply(sub_mat, sub_kernel / sub_kernel.sum()).sum()\n",
    "    return convs"
   ]
  }
 ],
 "metadata": {
  "kernelspec": {
   "display_name": "Python 3 (ipykernel)",
   "language": "python",
   "name": "python3"
  },
  "language_info": {
   "codemirror_mode": {
    "name": "ipython",
    "version": 3
   },
   "file_extension": ".py",
   "mimetype": "text/x-python",
   "name": "python",
   "nbconvert_exporter": "python",
   "pygments_lexer": "ipython3",
   "version": "3.11.6"
  }
 },
 "nbformat": 4,
 "nbformat_minor": 5
}
