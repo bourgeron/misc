{
 "cells": [
  {
   "cell_type": "code",
   "execution_count": null,
   "id": "60da9f5d",
   "metadata": {},
   "outputs": [],
   "source": [
    "import numpy as np\n",
    "from numpy.linalg import LinAlgError\n",
    "import pandas as pd\n",
    "import polars as pl\n",
    "from itertools import combinations"
   ]
  },
  {
   "cell_type": "markdown",
   "id": "4dcad54e",
   "metadata": {},
   "source": [
    "# Data"
   ]
  },
  {
   "cell_type": "code",
   "execution_count": null,
   "id": "b9e939bc",
   "metadata": {},
   "outputs": [],
   "source": [
    "def gen_rets(mu, sig, n_pts=1000):\n",
    "    return pd.Series(mu + sig * np.random.randn(n_pts))\n",
    "    return pd.Series(1. + (\n",
    "        mu + sig * np.random.randn(n_pts)).cumsum())\n",
    "\n",
    "n_assets = 50\n",
    "mus = np.linspace(-0.2, 0.2, n_assets) / 365\n",
    "sig = 0.1 / 365 ** 0.5\n",
    "returns = [gen_rets(mu, sig) for mu in mus]\n",
    "# returns[10].plot(grid=True)\n",
    "\n",
    "dates = (\n",
    "    pd.Series(pd.date_range(start='1/1/2000', periods=len(returns[0])))\n",
    "    .rename('date')\n",
    ")\n",
    "returns = pd.concat([dates] + returns, axis=1).set_index('date')\n",
    "returns.plot(grid=True, legend=False)"
   ]
  },
  {
   "cell_type": "code",
   "execution_count": null,
   "id": "8f42bd87",
   "metadata": {},
   "outputs": [],
   "source": [
    "returns = (\n",
    "    pl.DataFrame(returns.reset_index())\n",
    "    .with_columns(pl.col('date').cast(pl.Date))\n",
    ")"
   ]
  },
  {
   "cell_type": "markdown",
   "id": "9a1949d7",
   "metadata": {},
   "source": [
    "# Polars corr"
   ]
  },
  {
   "cell_type": "code",
   "execution_count": null,
   "id": "5d81a2c9",
   "metadata": {},
   "outputs": [],
   "source": [
    "def window_corrs(columns, method):\n",
    "    return [\n",
    "        pl.corr(*pair, method=method).alias('_'.join(pair))\n",
    "        for pair in combinations(columns, r=2)]\n",
    "\n",
    "def shape_corr(line):\n",
    "    dim  = (1 + (1 + 8 * len(line)) ** .5) / 2\n",
    "    assert dim.is_integer()\n",
    "    dim = int(dim)\n",
    "    corr_mat = np.ones((dim, dim))\n",
    "    inds = np.triu_indices(dim, k=1)\n",
    "    corr_mat[inds] = corr_mat.T[inds] = line\n",
    "    return corr_mat\n",
    "\n",
    "def svd_catched(line):\n",
    "    corr = shape_corr(line)\n",
    "    try:\n",
    "        res = np.linalg.svd(corr, full_matrices=True)[0]\n",
    "    except LinAlgError:\n",
    "        res = None\n",
    "    return res"
   ]
  },
  {
   "cell_type": "markdown",
   "id": "507eb2f3",
   "metadata": {},
   "source": [
    "## Full sample"
   ]
  },
  {
   "cell_type": "code",
   "execution_count": null,
   "id": "bb745a62",
   "metadata": {},
   "outputs": [],
   "source": [
    "def get_loadings(returns, n_factors, method='spearman'):\n",
    "    columns = returns.drop('date').columns\n",
    "    cols = pl.col(columns)\n",
    "    returns = returns.with_columns(\n",
    "        (cols - cols.mean()) / (cols.std())\n",
    "    )\n",
    "    corr = (\n",
    "        returns\n",
    "        .select(window_corrs(columns, method))\n",
    "    )\n",
    "    loads = svd_catched(corr.to_numpy()[0])[:n_factors, :]\n",
    "    if loads is None:\n",
    "        loads = []\n",
    "    return pl.DataFrame(loads, schema=columns)"
   ]
  },
  {
   "cell_type": "code",
   "execution_count": null,
   "id": "4a809a17",
   "metadata": {},
   "outputs": [],
   "source": [
    "n_factors = 3\n",
    "loadings = get_loadings(returns, n_factors)\n",
    "loadings.shape"
   ]
  },
  {
   "cell_type": "markdown",
   "id": "80df1201",
   "metadata": {},
   "source": [
    "## Rolling"
   ]
  },
  {
   "cell_type": "code",
   "execution_count": null,
   "id": "7a0bd3b8",
   "metadata": {},
   "outputs": [],
   "source": [
    "def get_rolling_loadings(returns, n_days, n_factors, method='spearman'):\n",
    "    columns = returns.drop('date').columns\n",
    "    cols = pl.col(columns)\n",
    "    returns = returns.with_columns(\n",
    "        (cols - cols.mean()) / (cols.std())\n",
    "    )\n",
    "    rolling_corrs = (\n",
    "        returns\n",
    "        .sort('date')\n",
    "        .rolling('date', period=f'{n_days}d')\n",
    "        .agg(window_corrs(columns, method))\n",
    "        .sort('date')\n",
    "    )\n",
    "    loadings = [\n",
    "        [line[0], *load]\n",
    "        for line in rolling_corrs.iter_rows()\n",
    "        if (loads := svd_catched(line[1:])) is not None\n",
    "        for load in loads.tolist()[:n_factors]\n",
    "    ]\n",
    "    return (\n",
    "        pl.DataFrame(loadings, schema=['date', *columns])\n",
    "        .with_columns(pl.col('date').cast(pl.Date))\n",
    "    )"
   ]
  },
  {
   "cell_type": "code",
   "execution_count": null,
   "id": "8b6f0e39",
   "metadata": {},
   "outputs": [],
   "source": [
    "%%time\n",
    "\n",
    "n_days = 50\n",
    "n_factors = 3\n",
    "method = 'spearman'\n",
    "\n",
    "loadings = get_rolling_loadings(returns, n_days, n_factors, method)\n",
    "loadings"
   ]
  },
  {
   "cell_type": "markdown",
   "id": "5fe6377a",
   "metadata": {},
   "source": [
    "# Misc"
   ]
  },
  {
   "cell_type": "code",
   "execution_count": null,
   "id": "d5b11e48",
   "metadata": {},
   "outputs": [],
   "source": [
    "def get_lin_coef(rets_vals, factors_vals):\n",
    "    \" LinearRegression(fit_intercept=False).coef_ \"\n",
    "    norms = np.matmul(rets_vals.T, rets_vals)\n",
    "    ins = np.matmul(rets_vals.T, factors_vals)\n",
    "    return np.linalg.solve(norms, ins).T"
   ]
  }
 ],
 "metadata": {
  "kernelspec": {
   "display_name": "Python 3 (ipykernel)",
   "language": "python",
   "name": "python3"
  },
  "language_info": {
   "codemirror_mode": {
    "name": "ipython",
    "version": 3
   },
   "file_extension": ".py",
   "mimetype": "text/x-python",
   "name": "python",
   "nbconvert_exporter": "python",
   "pygments_lexer": "ipython3",
   "version": "3.11.6"
  }
 },
 "nbformat": 4,
 "nbformat_minor": 5
}
